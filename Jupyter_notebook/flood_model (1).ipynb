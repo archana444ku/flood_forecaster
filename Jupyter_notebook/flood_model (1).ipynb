{
 "cells": [
  {
   "cell_type": "markdown",
   "id": "f8e50294-5a97-4097-b273-e458ae264835",
   "metadata": {},
   "source": [
    "# Importing necessary libraries for data manipulation, preprocessing, and model building"
   ]
  },
  {
   "cell_type": "code",
   "execution_count": 2,
   "id": "70e9a78a-5bcb-492d-9c20-275e92aed569",
   "metadata": {},
   "outputs": [],
   "source": [
    "# Importing pandas for data manipulation and analysis\n",
    "import pandas as pd \n",
    "# Importing train_test_split for splitting the dataset into training and testing sets\n",
    "from sklearn.model_selection import train_test_split  \n",
    "# Importing OneHotEncoder for encoding categorical variables and StandardScaler for scaling numerical features\n",
    "from sklearn.preprocessing import OneHotEncoder, StandardScaler \n",
    "# Importing ColumnTransformer to apply different preprocessing steps to different columns in the dataset\n",
    "from sklearn.compose import ColumnTransformer  \n",
    "# Importing Pipeline to streamline the process of creating machine learning models by combining preprocessing and modeling steps\n",
    "from sklearn.pipeline import Pipeline  \n"
   ]
  },
  {
   "cell_type": "markdown",
   "id": "108f7597-8170-4194-811c-e17372163030",
   "metadata": {},
   "source": [
    "Conclusion:These libraries facilitate data preparation and modeling by enabling efficient data manipulation (pandas), splitting datasets (train_test_split), encoding and scaling features (OneHotEncoder and StandardScaler), applying diverse preprocessing steps (ColumnTransformer), and integrating these steps into a unified workflow (Pipeline).\n",
    "\n",
    "\n",
    "\n",
    "\n",
    "\n",
    "\n",
    "\n"
   ]
  },
  {
   "cell_type": "markdown",
   "id": "55641792-b2b0-4014-b959-2d430263376c",
   "metadata": {},
   "source": [
    "# This line loads the dataset from the CSV file"
   ]
  },
  {
   "cell_type": "code",
   "execution_count": 3,
   "id": "5cce817f-b162-478d-826f-9df6fc6959b3",
   "metadata": {},
   "outputs": [],
   "source": [
    " # Loading the dataset from a CSV file into a pandas DataFrame for data manipulation and analysis\n",
    "df = pd.read_csv('updated_floods.csv') \n",
    "\n"
   ]
  },
  {
   "cell_type": "markdown",
   "id": "7caef1dd-c870-4151-8192-26695e716336",
   "metadata": {},
   "source": [
    "# This line defines a list of features necessary for modeling and analysis, specifying the variables to be used."
   ]
  },
  {
   "cell_type": "code",
   "execution_count": 4,
   "id": "9f44078b-6ac9-411b-99d9-20612d3a7f73",
   "metadata": {},
   "outputs": [],
   "source": [
    " # Defining a list of required features that will be used for modeling and analysis\n",
    "required_features = [\n",
    "    'Year', 'Flood_Area', 'MonsoonIntensity', 'Deforestation', \n",
    "    'ClimateChange', 'Siltation', 'AgriculturalPractices', \n",
    "    'DrainageSystems', 'CoastalVulnerability', 'Landslides', \n",
    "    'PopulationScore', 'InadequatePlanning', 'Latitude', 'Longitude'\n",
    "] \n"
   ]
  },
  {
   "cell_type": "markdown",
   "id": "bbacef5b-c890-423c-9097-65d39264a9b1",
   "metadata": {},
   "source": [
    "Conclusion:Specifying required features helps focus the analysis and modeling on relevant data, ensuring that only the necessary information is considered for building predictive models."
   ]
  },
  {
   "cell_type": "markdown",
   "id": "d57e017c-dcdd-4a1a-a9b9-f64cf294d3b9",
   "metadata": {},
   "source": [
    "# FloodProbability as the target variable for the prediction model, representing the likelihood of a flood occurring."
   ]
  },
  {
   "cell_type": "code",
   "execution_count": 4,
   "id": "9fe0c47e-35e3-45ed-b7ae-5c38dfc4900b",
   "metadata": {},
   "outputs": [],
   "source": [
    " # Defining the target variable for the prediction model, which represents the likelihood of a flood occurring\n",
    "target = 'FloodProbability' \n",
    "\n"
   ]
  },
  {
   "cell_type": "markdown",
   "id": "543cd2b4-cf40-41a5-98a1-6a1248a0c10e",
   "metadata": {},
   "source": [
    "Conclusion: Specifying the target variable helps direct the model’s focus on predicting the likelihood of a flood based on input features."
   ]
  },
  {
   "cell_type": "markdown",
   "id": "003e4d18-c005-4782-bca7-e9033be6a9a3",
   "metadata": {},
   "source": [
    "# select the features and target variable from the DataFrame to prepare the input data (X) and output data (y) for the prediction model."
   ]
  },
  {
   "cell_type": "code",
   "execution_count": 5,
   "id": "5adb30ae-c459-4bcc-9ecd-d7496b7d9a40",
   "metadata": {},
   "outputs": [],
   "source": [
    " # Selecting the required features from the DataFrame to create the input data for the model\n",
    "X = df[required_features] \n",
    " # Selecting the target variable from the DataFrame to create the output data for the model\n",
    "y = df[target] \n"
   ]
  },
  {
   "cell_type": "markdown",
   "id": "e8567541-1a90-4471-adbd-7f5e06195ab5",
   "metadata": {},
   "source": [
    "Conclusion: Selecting the appropriate features and target variable ensures that the model is trained with the relevant data, allowing for accurate predictions and effective model training."
   ]
  },
  {
   "cell_type": "markdown",
   "id": "90ef3619-4bbb-46bd-aa91-e2a47c3eac3a",
   "metadata": {},
   "source": [
    "# lists for feature encoding and processing: categorical_features contains features that need encoding, while numeric_features includes features that are numerical, derived by excluding categorical features from the list of required features."
   ]
  },
  {
   "cell_type": "code",
   "execution_count": 6,
   "id": "4dbb5120-2f6a-4955-be3b-fc0c0bd80097",
   "metadata": {},
   "outputs": [],
   "source": [
    "# Defining a list of categorical features that need to be encoded for machine learning models\n",
    "categorical_features = ['Flood_Area']  \n",
    "# Defining a list of numerical features by excluding categorical features from the required features\n",
    "numeric_features = [col for col in required_features if col not in categorical_features]  \n"
   ]
  },
  {
   "cell_type": "markdown",
   "id": "7e7bc209-8896-4c2e-9876-684d92f59037",
   "metadata": {},
   "source": [
    "Conclusion: Separating categorical and numerical features ensures that appropriate preprocessing techniques, such as encoding for categorical features and scaling for numerical features, can be applied during model training."
   ]
  },
  {
   "cell_type": "markdown",
   "id": "ba8d6415-91a8-482b-a5f7-cc3014b8bdd2",
   "metadata": {},
   "source": [
    "## This code creates a ColumnTransformer object named preprocessor to apply different preprocessing steps to numerical and categorical features: StandardScaler for numerical features to standardize them, and OneHotEncoder for categorical features to encode them for machine learning models."
   ]
  },
  {
   "cell_type": "code",
   "execution_count": 7,
   "id": "46cc2b18-3c16-45c3-9c9d-1cc605282eca",
   "metadata": {},
   "outputs": [],
   "source": [
    "preprocessor = ColumnTransformer(\n",
    "    transformers=[\n",
    "         # Applying StandardScaler to numerical features to standardize them (mean=0, variance=1)\n",
    "        ('num', StandardScaler(), numeric_features), \n",
    "        # Applying OneHotEncoder to categorical features to convert them into a format suitable for machine learning models\n",
    "        ('cat', OneHotEncoder(), categorical_features)  \n",
    "    ]\n",
    ")  # Creating a preprocessor object using ColumnTransformer to apply different preprocessing steps to numerical and categorical features\n"
   ]
  },
  {
   "cell_type": "markdown",
   "id": "61c0b4f4-ac4d-428b-b771-e354f3699a8f",
   "metadata": {},
   "source": [
    "Conclusion: Using ColumnTransformer ensures that appropriate preprocessing techniques are applied to different types of features, facilitating effective data transformation and preparation for modeling."
   ]
  },
  {
   "cell_type": "markdown",
   "id": "b219edee-98e3-468e-b6bc-eca55f8cc613",
   "metadata": {},
   "source": [
    "# splits the dataset into training and testing sets, with 80% of the data used for training and 20% for testing, while ensuring reproducibility by setting a fixed random_state"
   ]
  },
  {
   "cell_type": "code",
   "execution_count": 8,
   "id": "518f5877-3927-4b45-8ae9-3e69a4061247",
   "metadata": {},
   "outputs": [],
   "source": [
    " # Splitting the dataset into training and testing sets with 80% of the data for training and 20% for testing, ensuring reproducibility with a fixed random state\n",
    "X_train, X_test, y_train, y_test = train_test_split(X, y, test_size=0.2, random_state=42) "
   ]
  },
  {
   "cell_type": "markdown",
   "id": "1291b367-0311-4204-9579-cdf16868edc8",
   "metadata": {},
   "source": [
    "Conclusion: Splitting the data into training and testing sets ensures that the model is evaluated on unseen data, and using a fixed random state guarantees that the split is reproducible."
   ]
  },
  {
   "cell_type": "markdown",
   "id": "06aa63ec-c11d-4a5c-b5f1-b1d3a5fa296a",
   "metadata": {},
   "source": [
    "# Fit the preprocessor to the training data, applying standard scaling and one-hot encoding, and then transform both the training and test data using the fitted preprocessor to ensure consistent preprocessing."
   ]
  },
  {
   "cell_type": "code",
   "execution_count": 9,
   "id": "68d18f09-e747-4f40-9d45-0026fc9a382d",
   "metadata": {},
   "outputs": [],
   "source": [
    " # Fitting the preprocessor to the training data and transforming it, applying standard scaling and one-hot encoding as defined\n",
    "X_train = preprocessor.fit_transform(X_train) \n",
    " # Transforming the test data using the same preprocessor fitted to the training data to ensure consistency in feature scaling and encoding\n",
    "X_test = preprocessor.transform(X_test) "
   ]
  },
  {
   "cell_type": "markdown",
   "id": "4edc79d6-2117-4635-8ad2-16aa625e475f",
   "metadata": {},
   "source": [
    "Conclusion: Fitting the preprocessor to the training data and then applying it to both training and test data ensures that feature scaling and encoding are consistent, which is crucial for accurate model performance and evaluation."
   ]
  },
  {
   "cell_type": "markdown",
   "id": "4afd10d1-19e0-4012-a514-59a2c8e0adfc",
   "metadata": {},
   "source": [
    "# Imports libraries for building and evaluating a regression model, and for saving/loading the model"
   ]
  },
  {
   "cell_type": "code",
   "execution_count": 10,
   "id": "0232c058-4282-4869-96c2-4abaa07a2bc6",
   "metadata": {},
   "outputs": [],
   "source": [
    "# Importing RandomForestRegressor for building a regression model using the random forest algorithm\n",
    "from sklearn.ensemble import RandomForestRegressor \n",
    "# Importing mean_squared_error to evaluate the performance of the regression model\n",
    "from sklearn.metrics import mean_squared_error  \n",
    "# Importing pickle for saving and loading the trained model to and from files\n",
    "import pickle  \n"
   ]
  },
  {
   "cell_type": "markdown",
   "id": "22362edf-b718-4b85-8226-d39d6e5cca21",
   "metadata": {},
   "source": [
    "Conclusion: These imports enable you to build and assess a regression model, and manage model persistence through saving and loading, facilitating model deployment and reuse."
   ]
  },
  {
   "cell_type": "markdown",
   "id": "9e3c936b-8759-40bc-8766-82355c285f9c",
   "metadata": {},
   "source": [
    "# creates a RandomForestRegressor model with 100 trees and a fixed random state for reproducibility, and then trains the model using the preprocessed training data."
   ]
  },
  {
   "cell_type": "code",
   "execution_count": 11,
   "id": "8cd8565c-1761-4c5f-b025-fd3d732d4852",
   "metadata": {},
   "outputs": [
    {
     "data": {
      "text/html": [
       "<style>#sk-container-id-1 {\n",
       "  /* Definition of color scheme common for light and dark mode */\n",
       "  --sklearn-color-text: black;\n",
       "  --sklearn-color-line: gray;\n",
       "  /* Definition of color scheme for unfitted estimators */\n",
       "  --sklearn-color-unfitted-level-0: #fff5e6;\n",
       "  --sklearn-color-unfitted-level-1: #f6e4d2;\n",
       "  --sklearn-color-unfitted-level-2: #ffe0b3;\n",
       "  --sklearn-color-unfitted-level-3: chocolate;\n",
       "  /* Definition of color scheme for fitted estimators */\n",
       "  --sklearn-color-fitted-level-0: #f0f8ff;\n",
       "  --sklearn-color-fitted-level-1: #d4ebff;\n",
       "  --sklearn-color-fitted-level-2: #b3dbfd;\n",
       "  --sklearn-color-fitted-level-3: cornflowerblue;\n",
       "\n",
       "  /* Specific color for light theme */\n",
       "  --sklearn-color-text-on-default-background: var(--sg-text-color, var(--theme-code-foreground, var(--jp-content-font-color1, black)));\n",
       "  --sklearn-color-background: var(--sg-background-color, var(--theme-background, var(--jp-layout-color0, white)));\n",
       "  --sklearn-color-border-box: var(--sg-text-color, var(--theme-code-foreground, var(--jp-content-font-color1, black)));\n",
       "  --sklearn-color-icon: #696969;\n",
       "\n",
       "  @media (prefers-color-scheme: dark) {\n",
       "    /* Redefinition of color scheme for dark theme */\n",
       "    --sklearn-color-text-on-default-background: var(--sg-text-color, var(--theme-code-foreground, var(--jp-content-font-color1, white)));\n",
       "    --sklearn-color-background: var(--sg-background-color, var(--theme-background, var(--jp-layout-color0, #111)));\n",
       "    --sklearn-color-border-box: var(--sg-text-color, var(--theme-code-foreground, var(--jp-content-font-color1, white)));\n",
       "    --sklearn-color-icon: #878787;\n",
       "  }\n",
       "}\n",
       "\n",
       "#sk-container-id-1 {\n",
       "  color: var(--sklearn-color-text);\n",
       "}\n",
       "\n",
       "#sk-container-id-1 pre {\n",
       "  padding: 0;\n",
       "}\n",
       "\n",
       "#sk-container-id-1 input.sk-hidden--visually {\n",
       "  border: 0;\n",
       "  clip: rect(1px 1px 1px 1px);\n",
       "  clip: rect(1px, 1px, 1px, 1px);\n",
       "  height: 1px;\n",
       "  margin: -1px;\n",
       "  overflow: hidden;\n",
       "  padding: 0;\n",
       "  position: absolute;\n",
       "  width: 1px;\n",
       "}\n",
       "\n",
       "#sk-container-id-1 div.sk-dashed-wrapped {\n",
       "  border: 1px dashed var(--sklearn-color-line);\n",
       "  margin: 0 0.4em 0.5em 0.4em;\n",
       "  box-sizing: border-box;\n",
       "  padding-bottom: 0.4em;\n",
       "  background-color: var(--sklearn-color-background);\n",
       "}\n",
       "\n",
       "#sk-container-id-1 div.sk-container {\n",
       "  /* jupyter's `normalize.less` sets `[hidden] { display: none; }`\n",
       "     but bootstrap.min.css set `[hidden] { display: none !important; }`\n",
       "     so we also need the `!important` here to be able to override the\n",
       "     default hidden behavior on the sphinx rendered scikit-learn.org.\n",
       "     See: https://github.com/scikit-learn/scikit-learn/issues/21755 */\n",
       "  display: inline-block !important;\n",
       "  position: relative;\n",
       "}\n",
       "\n",
       "#sk-container-id-1 div.sk-text-repr-fallback {\n",
       "  display: none;\n",
       "}\n",
       "\n",
       "div.sk-parallel-item,\n",
       "div.sk-serial,\n",
       "div.sk-item {\n",
       "  /* draw centered vertical line to link estimators */\n",
       "  background-image: linear-gradient(var(--sklearn-color-text-on-default-background), var(--sklearn-color-text-on-default-background));\n",
       "  background-size: 2px 100%;\n",
       "  background-repeat: no-repeat;\n",
       "  background-position: center center;\n",
       "}\n",
       "\n",
       "/* Parallel-specific style estimator block */\n",
       "\n",
       "#sk-container-id-1 div.sk-parallel-item::after {\n",
       "  content: \"\";\n",
       "  width: 100%;\n",
       "  border-bottom: 2px solid var(--sklearn-color-text-on-default-background);\n",
       "  flex-grow: 1;\n",
       "}\n",
       "\n",
       "#sk-container-id-1 div.sk-parallel {\n",
       "  display: flex;\n",
       "  align-items: stretch;\n",
       "  justify-content: center;\n",
       "  background-color: var(--sklearn-color-background);\n",
       "  position: relative;\n",
       "}\n",
       "\n",
       "#sk-container-id-1 div.sk-parallel-item {\n",
       "  display: flex;\n",
       "  flex-direction: column;\n",
       "}\n",
       "\n",
       "#sk-container-id-1 div.sk-parallel-item:first-child::after {\n",
       "  align-self: flex-end;\n",
       "  width: 50%;\n",
       "}\n",
       "\n",
       "#sk-container-id-1 div.sk-parallel-item:last-child::after {\n",
       "  align-self: flex-start;\n",
       "  width: 50%;\n",
       "}\n",
       "\n",
       "#sk-container-id-1 div.sk-parallel-item:only-child::after {\n",
       "  width: 0;\n",
       "}\n",
       "\n",
       "/* Serial-specific style estimator block */\n",
       "\n",
       "#sk-container-id-1 div.sk-serial {\n",
       "  display: flex;\n",
       "  flex-direction: column;\n",
       "  align-items: center;\n",
       "  background-color: var(--sklearn-color-background);\n",
       "  padding-right: 1em;\n",
       "  padding-left: 1em;\n",
       "}\n",
       "\n",
       "\n",
       "/* Toggleable style: style used for estimator/Pipeline/ColumnTransformer box that is\n",
       "clickable and can be expanded/collapsed.\n",
       "- Pipeline and ColumnTransformer use this feature and define the default style\n",
       "- Estimators will overwrite some part of the style using the `sk-estimator` class\n",
       "*/\n",
       "\n",
       "/* Pipeline and ColumnTransformer style (default) */\n",
       "\n",
       "#sk-container-id-1 div.sk-toggleable {\n",
       "  /* Default theme specific background. It is overwritten whether we have a\n",
       "  specific estimator or a Pipeline/ColumnTransformer */\n",
       "  background-color: var(--sklearn-color-background);\n",
       "}\n",
       "\n",
       "/* Toggleable label */\n",
       "#sk-container-id-1 label.sk-toggleable__label {\n",
       "  cursor: pointer;\n",
       "  display: block;\n",
       "  width: 100%;\n",
       "  margin-bottom: 0;\n",
       "  padding: 0.5em;\n",
       "  box-sizing: border-box;\n",
       "  text-align: center;\n",
       "}\n",
       "\n",
       "#sk-container-id-1 label.sk-toggleable__label-arrow:before {\n",
       "  /* Arrow on the left of the label */\n",
       "  content: \"▸\";\n",
       "  float: left;\n",
       "  margin-right: 0.25em;\n",
       "  color: var(--sklearn-color-icon);\n",
       "}\n",
       "\n",
       "#sk-container-id-1 label.sk-toggleable__label-arrow:hover:before {\n",
       "  color: var(--sklearn-color-text);\n",
       "}\n",
       "\n",
       "/* Toggleable content - dropdown */\n",
       "\n",
       "#sk-container-id-1 div.sk-toggleable__content {\n",
       "  max-height: 0;\n",
       "  max-width: 0;\n",
       "  overflow: hidden;\n",
       "  text-align: left;\n",
       "  /* unfitted */\n",
       "  background-color: var(--sklearn-color-unfitted-level-0);\n",
       "}\n",
       "\n",
       "#sk-container-id-1 div.sk-toggleable__content.fitted {\n",
       "  /* fitted */\n",
       "  background-color: var(--sklearn-color-fitted-level-0);\n",
       "}\n",
       "\n",
       "#sk-container-id-1 div.sk-toggleable__content pre {\n",
       "  margin: 0.2em;\n",
       "  border-radius: 0.25em;\n",
       "  color: var(--sklearn-color-text);\n",
       "  /* unfitted */\n",
       "  background-color: var(--sklearn-color-unfitted-level-0);\n",
       "}\n",
       "\n",
       "#sk-container-id-1 div.sk-toggleable__content.fitted pre {\n",
       "  /* unfitted */\n",
       "  background-color: var(--sklearn-color-fitted-level-0);\n",
       "}\n",
       "\n",
       "#sk-container-id-1 input.sk-toggleable__control:checked~div.sk-toggleable__content {\n",
       "  /* Expand drop-down */\n",
       "  max-height: 200px;\n",
       "  max-width: 100%;\n",
       "  overflow: auto;\n",
       "}\n",
       "\n",
       "#sk-container-id-1 input.sk-toggleable__control:checked~label.sk-toggleable__label-arrow:before {\n",
       "  content: \"▾\";\n",
       "}\n",
       "\n",
       "/* Pipeline/ColumnTransformer-specific style */\n",
       "\n",
       "#sk-container-id-1 div.sk-label input.sk-toggleable__control:checked~label.sk-toggleable__label {\n",
       "  color: var(--sklearn-color-text);\n",
       "  background-color: var(--sklearn-color-unfitted-level-2);\n",
       "}\n",
       "\n",
       "#sk-container-id-1 div.sk-label.fitted input.sk-toggleable__control:checked~label.sk-toggleable__label {\n",
       "  background-color: var(--sklearn-color-fitted-level-2);\n",
       "}\n",
       "\n",
       "/* Estimator-specific style */\n",
       "\n",
       "/* Colorize estimator box */\n",
       "#sk-container-id-1 div.sk-estimator input.sk-toggleable__control:checked~label.sk-toggleable__label {\n",
       "  /* unfitted */\n",
       "  background-color: var(--sklearn-color-unfitted-level-2);\n",
       "}\n",
       "\n",
       "#sk-container-id-1 div.sk-estimator.fitted input.sk-toggleable__control:checked~label.sk-toggleable__label {\n",
       "  /* fitted */\n",
       "  background-color: var(--sklearn-color-fitted-level-2);\n",
       "}\n",
       "\n",
       "#sk-container-id-1 div.sk-label label.sk-toggleable__label,\n",
       "#sk-container-id-1 div.sk-label label {\n",
       "  /* The background is the default theme color */\n",
       "  color: var(--sklearn-color-text-on-default-background);\n",
       "}\n",
       "\n",
       "/* On hover, darken the color of the background */\n",
       "#sk-container-id-1 div.sk-label:hover label.sk-toggleable__label {\n",
       "  color: var(--sklearn-color-text);\n",
       "  background-color: var(--sklearn-color-unfitted-level-2);\n",
       "}\n",
       "\n",
       "/* Label box, darken color on hover, fitted */\n",
       "#sk-container-id-1 div.sk-label.fitted:hover label.sk-toggleable__label.fitted {\n",
       "  color: var(--sklearn-color-text);\n",
       "  background-color: var(--sklearn-color-fitted-level-2);\n",
       "}\n",
       "\n",
       "/* Estimator label */\n",
       "\n",
       "#sk-container-id-1 div.sk-label label {\n",
       "  font-family: monospace;\n",
       "  font-weight: bold;\n",
       "  display: inline-block;\n",
       "  line-height: 1.2em;\n",
       "}\n",
       "\n",
       "#sk-container-id-1 div.sk-label-container {\n",
       "  text-align: center;\n",
       "}\n",
       "\n",
       "/* Estimator-specific */\n",
       "#sk-container-id-1 div.sk-estimator {\n",
       "  font-family: monospace;\n",
       "  border: 1px dotted var(--sklearn-color-border-box);\n",
       "  border-radius: 0.25em;\n",
       "  box-sizing: border-box;\n",
       "  margin-bottom: 0.5em;\n",
       "  /* unfitted */\n",
       "  background-color: var(--sklearn-color-unfitted-level-0);\n",
       "}\n",
       "\n",
       "#sk-container-id-1 div.sk-estimator.fitted {\n",
       "  /* fitted */\n",
       "  background-color: var(--sklearn-color-fitted-level-0);\n",
       "}\n",
       "\n",
       "/* on hover */\n",
       "#sk-container-id-1 div.sk-estimator:hover {\n",
       "  /* unfitted */\n",
       "  background-color: var(--sklearn-color-unfitted-level-2);\n",
       "}\n",
       "\n",
       "#sk-container-id-1 div.sk-estimator.fitted:hover {\n",
       "  /* fitted */\n",
       "  background-color: var(--sklearn-color-fitted-level-2);\n",
       "}\n",
       "\n",
       "/* Specification for estimator info (e.g. \"i\" and \"?\") */\n",
       "\n",
       "/* Common style for \"i\" and \"?\" */\n",
       "\n",
       ".sk-estimator-doc-link,\n",
       "a:link.sk-estimator-doc-link,\n",
       "a:visited.sk-estimator-doc-link {\n",
       "  float: right;\n",
       "  font-size: smaller;\n",
       "  line-height: 1em;\n",
       "  font-family: monospace;\n",
       "  background-color: var(--sklearn-color-background);\n",
       "  border-radius: 1em;\n",
       "  height: 1em;\n",
       "  width: 1em;\n",
       "  text-decoration: none !important;\n",
       "  margin-left: 1ex;\n",
       "  /* unfitted */\n",
       "  border: var(--sklearn-color-unfitted-level-1) 1pt solid;\n",
       "  color: var(--sklearn-color-unfitted-level-1);\n",
       "}\n",
       "\n",
       ".sk-estimator-doc-link.fitted,\n",
       "a:link.sk-estimator-doc-link.fitted,\n",
       "a:visited.sk-estimator-doc-link.fitted {\n",
       "  /* fitted */\n",
       "  border: var(--sklearn-color-fitted-level-1) 1pt solid;\n",
       "  color: var(--sklearn-color-fitted-level-1);\n",
       "}\n",
       "\n",
       "/* On hover */\n",
       "div.sk-estimator:hover .sk-estimator-doc-link:hover,\n",
       ".sk-estimator-doc-link:hover,\n",
       "div.sk-label-container:hover .sk-estimator-doc-link:hover,\n",
       ".sk-estimator-doc-link:hover {\n",
       "  /* unfitted */\n",
       "  background-color: var(--sklearn-color-unfitted-level-3);\n",
       "  color: var(--sklearn-color-background);\n",
       "  text-decoration: none;\n",
       "}\n",
       "\n",
       "div.sk-estimator.fitted:hover .sk-estimator-doc-link.fitted:hover,\n",
       ".sk-estimator-doc-link.fitted:hover,\n",
       "div.sk-label-container:hover .sk-estimator-doc-link.fitted:hover,\n",
       ".sk-estimator-doc-link.fitted:hover {\n",
       "  /* fitted */\n",
       "  background-color: var(--sklearn-color-fitted-level-3);\n",
       "  color: var(--sklearn-color-background);\n",
       "  text-decoration: none;\n",
       "}\n",
       "\n",
       "/* Span, style for the box shown on hovering the info icon */\n",
       ".sk-estimator-doc-link span {\n",
       "  display: none;\n",
       "  z-index: 9999;\n",
       "  position: relative;\n",
       "  font-weight: normal;\n",
       "  right: .2ex;\n",
       "  padding: .5ex;\n",
       "  margin: .5ex;\n",
       "  width: min-content;\n",
       "  min-width: 20ex;\n",
       "  max-width: 50ex;\n",
       "  color: var(--sklearn-color-text);\n",
       "  box-shadow: 2pt 2pt 4pt #999;\n",
       "  /* unfitted */\n",
       "  background: var(--sklearn-color-unfitted-level-0);\n",
       "  border: .5pt solid var(--sklearn-color-unfitted-level-3);\n",
       "}\n",
       "\n",
       ".sk-estimator-doc-link.fitted span {\n",
       "  /* fitted */\n",
       "  background: var(--sklearn-color-fitted-level-0);\n",
       "  border: var(--sklearn-color-fitted-level-3);\n",
       "}\n",
       "\n",
       ".sk-estimator-doc-link:hover span {\n",
       "  display: block;\n",
       "}\n",
       "\n",
       "/* \"?\"-specific style due to the `<a>` HTML tag */\n",
       "\n",
       "#sk-container-id-1 a.estimator_doc_link {\n",
       "  float: right;\n",
       "  font-size: 1rem;\n",
       "  line-height: 1em;\n",
       "  font-family: monospace;\n",
       "  background-color: var(--sklearn-color-background);\n",
       "  border-radius: 1rem;\n",
       "  height: 1rem;\n",
       "  width: 1rem;\n",
       "  text-decoration: none;\n",
       "  /* unfitted */\n",
       "  color: var(--sklearn-color-unfitted-level-1);\n",
       "  border: var(--sklearn-color-unfitted-level-1) 1pt solid;\n",
       "}\n",
       "\n",
       "#sk-container-id-1 a.estimator_doc_link.fitted {\n",
       "  /* fitted */\n",
       "  border: var(--sklearn-color-fitted-level-1) 1pt solid;\n",
       "  color: var(--sklearn-color-fitted-level-1);\n",
       "}\n",
       "\n",
       "/* On hover */\n",
       "#sk-container-id-1 a.estimator_doc_link:hover {\n",
       "  /* unfitted */\n",
       "  background-color: var(--sklearn-color-unfitted-level-3);\n",
       "  color: var(--sklearn-color-background);\n",
       "  text-decoration: none;\n",
       "}\n",
       "\n",
       "#sk-container-id-1 a.estimator_doc_link.fitted:hover {\n",
       "  /* fitted */\n",
       "  background-color: var(--sklearn-color-fitted-level-3);\n",
       "}\n",
       "</style><div id=\"sk-container-id-1\" class=\"sk-top-container\"><div class=\"sk-text-repr-fallback\"><pre>RandomForestRegressor(random_state=42)</pre><b>In a Jupyter environment, please rerun this cell to show the HTML representation or trust the notebook. <br />On GitHub, the HTML representation is unable to render, please try loading this page with nbviewer.org.</b></div><div class=\"sk-container\" hidden><div class=\"sk-item\"><div class=\"sk-estimator fitted sk-toggleable\"><input class=\"sk-toggleable__control sk-hidden--visually\" id=\"sk-estimator-id-1\" type=\"checkbox\" checked><label for=\"sk-estimator-id-1\" class=\"sk-toggleable__label fitted sk-toggleable__label-arrow fitted\">&nbsp;&nbsp;RandomForestRegressor<a class=\"sk-estimator-doc-link fitted\" rel=\"noreferrer\" target=\"_blank\" href=\"https://scikit-learn.org/1.5/modules/generated/sklearn.ensemble.RandomForestRegressor.html\">?<span>Documentation for RandomForestRegressor</span></a><span class=\"sk-estimator-doc-link fitted\">i<span>Fitted</span></span></label><div class=\"sk-toggleable__content fitted\"><pre>RandomForestRegressor(random_state=42)</pre></div> </div></div></div></div>"
      ],
      "text/plain": [
       "RandomForestRegressor(random_state=42)"
      ]
     },
     "execution_count": 11,
     "metadata": {},
     "output_type": "execute_result"
    }
   ],
   "source": [
    "# Creating a RandomForestRegressor model with 100 trees and a fixed random state for reproducibility\n",
    "model = RandomForestRegressor(n_estimators=100, random_state=42)\n",
    "# Training the model on the preprocessed training data\n",
    "model.fit(X_train, y_train)  \n"
   ]
  },
  {
   "cell_type": "markdown",
   "id": "a1372dd8-632d-4fea-a15a-f8395ad79ad1",
   "metadata": {},
   "source": [
    "Conclusion: Configuring the RandomForestRegressor with a specific number of trees and a fixed random state ensures reproducible results, and training the model on preprocessed data allows it to learn patterns from the training set."
   ]
  },
  {
   "cell_type": "markdown",
   "id": "5fc12be2-b4d6-41cd-8a84-0dcbad4848e1",
   "metadata": {},
   "source": [
    "# These lines predict target variable values for the test set using the trained model, calculate the Mean Squared Error (MSE) between the actual and predicted values, and print the MSE to evaluate the model's performance."
   ]
  },
  {
   "cell_type": "code",
   "execution_count": 12,
   "id": "82a67bea-b76f-450d-8644-1f9bd2218750",
   "metadata": {},
   "outputs": [
    {
     "name": "stdout",
     "output_type": "stream",
     "text": [
      "Mean Squared Error: 0.0013818382875000002\n"
     ]
    }
   ],
   "source": [
    "# Predicting the target variable values for the test set using the trained model\n",
    "y_pred = model.predict(X_test)  \n",
    "# Calculating the Mean Squared Error (MSE) between the actual and predicted values for the test set\n",
    "mse = mean_squared_error(y_test, y_pred)  \n",
    "# Printing the Mean Squared Error to evaluate the model's performance\n",
    "print(f'Mean Squared Error: {mse}')  "
   ]
  },
  {
   "cell_type": "markdown",
   "id": "a4938579-e04e-4532-887a-1399ca9daf86",
   "metadata": {},
   "source": [
    "Conclusion: Predicting and evaluating the model with MSE provides a quantitative measure of how well the model performs on unseen data, helping assess its accuracy and effectiveness."
   ]
  },
  {
   "cell_type": "markdown",
   "id": "5b359feb-f283-4c5f-9c9a-93accc79cbf2",
   "metadata": {},
   "source": [
    "#  Save the trained RandomForestRegressor model and the preprocessor object to files named 'flood_model.pkl' and 'preprocessor.pkl' respectively, using pickle."
   ]
  },
  {
   "cell_type": "code",
   "execution_count": 13,
   "id": "5fdc864a-53ff-4a1b-bb88-eb6acf4a77ab",
   "metadata": {},
   "outputs": [],
   "source": [
    "# Saving the trained RandomForestRegressor model to a file named 'flood_model.pkl' for future use\n",
    "pickle.dump(model, open('flood_model.pkl', 'wb')) \n",
    "# Saving the preprocessor object to a file named 'preprocessor.pkl' to ensure consistency in data preprocessing for future predictions\n",
    "pickle.dump(preprocessor, open('preprocessor.pkl', 'wb'))  \n"
   ]
  },
  {
   "cell_type": "markdown",
   "id": "d9517d8c-c91f-4257-a6ba-4be20019d63e",
   "metadata": {},
   "source": [
    "Conclusion: Saving the model and preprocessor ensures that they can be easily loaded and reused in the future, facilitating consistent data preprocessing and model inference without retraining"
   ]
  },
  {
   "cell_type": "code",
   "execution_count": null,
   "id": "bf0004ad-0ccb-43d7-8901-fab2dfca6ce6",
   "metadata": {},
   "outputs": [],
   "source": []
  },
  {
   "cell_type": "code",
   "execution_count": null,
   "id": "153a342f-0f85-4248-ae99-54184eba0b07",
   "metadata": {},
   "outputs": [],
   "source": []
  }
 ],
 "metadata": {
  "kernelspec": {
   "display_name": "Python 3 (ipykernel)",
   "language": "python",
   "name": "python3"
  },
  "language_info": {
   "codemirror_mode": {
    "name": "ipython",
    "version": 3
   },
   "file_extension": ".py",
   "mimetype": "text/x-python",
   "name": "python",
   "nbconvert_exporter": "python",
   "pygments_lexer": "ipython3",
   "version": "3.12.2"
  }
 },
 "nbformat": 4,
 "nbformat_minor": 5
}
